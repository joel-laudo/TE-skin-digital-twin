{
 "cells": [
  {
   "cell_type": "raw",
   "metadata": {
    "colab": {
     "base_uri": "https://localhost:8080/"
    },
    "id": "SF5vMpaL7c5H",
    "outputId": "779892bc-a7ee-4dfe-b6f2-8016b92a24a8"
   },
   "source": [
    "pip install numpyro"
   ]
  },
  {
   "cell_type": "code",
   "execution_count": 1,
   "metadata": {
    "id": "Teyy5fhS7Xi9"
   },
   "outputs": [],
   "source": [
    "import argparse\n",
    "import os\n",
    "import time\n",
    "\n",
    "import matplotlib\n",
    "import matplotlib.pyplot as plt\n",
    "import numpy as np\n",
    "\n",
    "import jax\n",
    "from jax import vmap\n",
    "import jax.numpy as jnp\n",
    "import jax.random as random\n",
    "\n",
    "import numpyro\n",
    "import numpyro.distributions as dist\n",
    "from numpyro.infer import (\n",
    "    MCMC,\n",
    "    NUTS,\n",
    "    init_to_feasible,\n",
    "    init_to_median,\n",
    "    init_to_sample,\n",
    "    init_to_uniform,\n",
    "    init_to_value,\n",
    ")\n",
    "\n",
    "matplotlib.use(\"Agg\")  # noqa: E402"
   ]
  },
  {
   "cell_type": "code",
   "execution_count": 2,
   "metadata": {
    "id": "ilqWtgfkkLn4"
   },
   "outputs": [],
   "source": [
    "from scipy.stats import lognorm\n",
    "\n",
    "# Define parameters for the log-normal distribution\n",
    "mean = 1.1567  # Mean of the distribution\n",
    "sigma = 0.05  # Standard deviation of the logarithm of the distribution\n",
    "\n",
    "# Create a log-normal distribution object\n",
    "Theta_crit_prior = lognorm(s=sigma, scale=mean)\n",
    "x = np.linspace(0.9, 2, 1000)\n",
    "pdf = Theta_crit_prior.pdf(x)\n",
    "plt.plot(x, pdf, 'r-', lw=2, label='PDF')\n",
    "\n",
    "plt.title('Prior $\\Theta_{{crit}}$ Distribution')\n",
    "plt.xlabel('Value')\n",
    "plt.ylabel('Probability Density')\n",
    "plt.legend()\n",
    "plt.grid(True)\n",
    "plt.show()"
   ]
  },
  {
   "cell_type": "code",
   "execution_count": 3,
   "metadata": {
    "id": "iDXFDM4alXts"
   },
   "outputs": [],
   "source": [
    "##Read in the data sets needed. X_1 and X_2 are the training feature data for\n",
    "##the GPs. Y_1 are the labels for the first GP regression (area estimates), Y_2 are the\n",
    "##labels for the second GP regression (distance errors)\n",
    "##########################\n",
    "#Read in training data X_1, X_2\n",
    "file_path = 'Ped_1_GP_Training_Data_Features_X.txt'\n",
    "\n",
    "X_1 = np.loadtxt(file_path)\n",
    "X_2 = X_1\n",
    "#########################\n",
    "#Read in training labels Y_1 for the Area Growth Values Ag for the 100 tests\n",
    "file_path = 'Ped_1_GP_Training_Data_Labels_Y1.txt'\n",
    "\n",
    "Y_1 = np.loadtxt(file_path)\n",
    "\n",
    "##########################\n",
    "#Read in training labels Y_2 for the Mean Distance Errors for the 100 tests\n",
    "file_path = 'Ped_1_GP_Training_Data_Labels_Y2.txt'\n",
    "\n",
    "# Read the data from the file\n",
    "Y_2 = np.loadtxt(file_path)\n",
    "\n",
    "#############################\n",
    "#Read in test data X_Test (just a copy of the training features data for now)\n",
    "file_path = 'Ped_1_GP_Testing_Data_Features_X.txt'\n",
    "\n",
    "X_test = np.loadtxt(file_path)\n",
    "#############################\n",
    "#Read in test data results Y_Test_1 for the area growth Ag\n",
    "file_path = 'Ped_1_GP_Testing_Data_Labels_Y1.txt'\n",
    "\n",
    "Y_test_1 = np.loadtxt(file_path)\n",
    "#############################\n",
    "#Read in test data results Y_test_2 for the mean error\n",
    "file_path = 'Ped_1_GP_Testing_Data_Labels_Y2.txt'\n",
    "\n",
    "Y_test_2 = np.loadtxt(file_path)"
   ]
  },
  {
   "cell_type": "code",
   "execution_count": 4,
   "metadata": {
    "colab": {
     "base_uri": "https://localhost:8080/",
     "height": 92
    },
    "id": "X4U3tQut6kPg",
    "outputId": "f044215d-ce0d-434f-a2c5-3d444e59fa73"
   },
   "outputs": [
    {
     "data": {
      "text/html": [
       "<style>#sk-container-id-1 {color: black;background-color: white;}#sk-container-id-1 pre{padding: 0;}#sk-container-id-1 div.sk-toggleable {background-color: white;}#sk-container-id-1 label.sk-toggleable__label {cursor: pointer;display: block;width: 100%;margin-bottom: 0;padding: 0.3em;box-sizing: border-box;text-align: center;}#sk-container-id-1 label.sk-toggleable__label-arrow:before {content: \"▸\";float: left;margin-right: 0.25em;color: #696969;}#sk-container-id-1 label.sk-toggleable__label-arrow:hover:before {color: black;}#sk-container-id-1 div.sk-estimator:hover label.sk-toggleable__label-arrow:before {color: black;}#sk-container-id-1 div.sk-toggleable__content {max-height: 0;max-width: 0;overflow: hidden;text-align: left;background-color: #f0f8ff;}#sk-container-id-1 div.sk-toggleable__content pre {margin: 0.2em;color: black;border-radius: 0.25em;background-color: #f0f8ff;}#sk-container-id-1 input.sk-toggleable__control:checked~div.sk-toggleable__content {max-height: 200px;max-width: 100%;overflow: auto;}#sk-container-id-1 input.sk-toggleable__control:checked~label.sk-toggleable__label-arrow:before {content: \"▾\";}#sk-container-id-1 div.sk-estimator input.sk-toggleable__control:checked~label.sk-toggleable__label {background-color: #d4ebff;}#sk-container-id-1 div.sk-label input.sk-toggleable__control:checked~label.sk-toggleable__label {background-color: #d4ebff;}#sk-container-id-1 input.sk-hidden--visually {border: 0;clip: rect(1px 1px 1px 1px);clip: rect(1px, 1px, 1px, 1px);height: 1px;margin: -1px;overflow: hidden;padding: 0;position: absolute;width: 1px;}#sk-container-id-1 div.sk-estimator {font-family: monospace;background-color: #f0f8ff;border: 1px dotted black;border-radius: 0.25em;box-sizing: border-box;margin-bottom: 0.5em;}#sk-container-id-1 div.sk-estimator:hover {background-color: #d4ebff;}#sk-container-id-1 div.sk-parallel-item::after {content: \"\";width: 100%;border-bottom: 1px solid gray;flex-grow: 1;}#sk-container-id-1 div.sk-label:hover label.sk-toggleable__label {background-color: #d4ebff;}#sk-container-id-1 div.sk-serial::before {content: \"\";position: absolute;border-left: 1px solid gray;box-sizing: border-box;top: 0;bottom: 0;left: 50%;z-index: 0;}#sk-container-id-1 div.sk-serial {display: flex;flex-direction: column;align-items: center;background-color: white;padding-right: 0.2em;padding-left: 0.2em;position: relative;}#sk-container-id-1 div.sk-item {position: relative;z-index: 1;}#sk-container-id-1 div.sk-parallel {display: flex;align-items: stretch;justify-content: center;background-color: white;position: relative;}#sk-container-id-1 div.sk-item::before, #sk-container-id-1 div.sk-parallel-item::before {content: \"\";position: absolute;border-left: 1px solid gray;box-sizing: border-box;top: 0;bottom: 0;left: 50%;z-index: -1;}#sk-container-id-1 div.sk-parallel-item {display: flex;flex-direction: column;z-index: 1;position: relative;background-color: white;}#sk-container-id-1 div.sk-parallel-item:first-child::after {align-self: flex-end;width: 50%;}#sk-container-id-1 div.sk-parallel-item:last-child::after {align-self: flex-start;width: 50%;}#sk-container-id-1 div.sk-parallel-item:only-child::after {width: 0;}#sk-container-id-1 div.sk-dashed-wrapped {border: 1px dashed gray;margin: 0 0.4em 0.5em 0.4em;box-sizing: border-box;padding-bottom: 0.4em;background-color: white;}#sk-container-id-1 div.sk-label label {font-family: monospace;font-weight: bold;display: inline-block;line-height: 1.2em;}#sk-container-id-1 div.sk-label-container {text-align: center;}#sk-container-id-1 div.sk-container {/* jupyter's `normalize.less` sets `[hidden] { display: none; }` but bootstrap.min.css set `[hidden] { display: none !important; }` so we also need the `!important` here to be able to override the default hidden behavior on the sphinx rendered scikit-learn.org. See: https://github.com/scikit-learn/scikit-learn/issues/21755 */display: inline-block !important;position: relative;}#sk-container-id-1 div.sk-text-repr-fallback {display: none;}</style><div id=\"sk-container-id-1\" class=\"sk-top-container\"><div class=\"sk-text-repr-fallback\"><pre>GaussianProcessRegressor(kernel=1**2 * RBF(length_scale=1),\n",
       "                         n_restarts_optimizer=10)</pre><b>In a Jupyter environment, please rerun this cell to show the HTML representation or trust the notebook. <br />On GitHub, the HTML representation is unable to render, please try loading this page with nbviewer.org.</b></div><div class=\"sk-container\" hidden><div class=\"sk-item\"><div class=\"sk-estimator sk-toggleable\"><input class=\"sk-toggleable__control sk-hidden--visually\" id=\"sk-estimator-id-1\" type=\"checkbox\" checked><label for=\"sk-estimator-id-1\" class=\"sk-toggleable__label sk-toggleable__label-arrow\">GaussianProcessRegressor</label><div class=\"sk-toggleable__content\"><pre>GaussianProcessRegressor(kernel=1**2 * RBF(length_scale=1),\n",
       "                         n_restarts_optimizer=10)</pre></div></div></div></div></div>"
      ],
      "text/plain": [
       "GaussianProcessRegressor(kernel=1**2 * RBF(length_scale=1),\n",
       "                         n_restarts_optimizer=10)"
      ]
     },
     "execution_count": 4,
     "metadata": {},
     "output_type": "execute_result"
    }
   ],
   "source": [
    "%matplotlib inline\n",
    "import numpy as np\n",
    "import matplotlib.pyplot as plt\n",
    "from sklearn.gaussian_process import GaussianProcessRegressor\n",
    "from sklearn.gaussian_process.kernels import RBF, ConstantKernel as C\n",
    "\n",
    "kernel = C(1.0, (1e-3, 1e10)) * RBF(length_scale=1.0, length_scale_bounds=(1e-2, 1e2))\n",
    "\n",
    "# Create a Gaussian Process Regressor object\n",
    "gp_1 = GaussianProcessRegressor(kernel=kernel, n_restarts_optimizer=10)\n",
    "\n",
    "# Train the Gaussian Process Regressor\n",
    "gp_1.fit(X_1, Y_1)\n"
   ]
  },
  {
   "cell_type": "code",
   "execution_count": 5,
   "metadata": {
    "colab": {
     "base_uri": "https://localhost:8080/",
     "height": 1000
    },
    "id": "e4gvA5b4RA4u",
    "outputId": "df4b047a-e32d-4f7f-ba15-1765366eabe5"
   },
   "outputs": [
    {
     "name": "stdout",
     "output_type": "stream",
     "text": [
      "[3298.3694338  2760.57314716 4806.01935593 2987.74759362 2677.71267887\n",
      " 1711.60277485 1950.44300827 2038.56701023 2694.74783085 2362.32659035\n",
      " 3637.08294222 4248.45607419 4806.89344898 1923.62835    2926.71316936\n",
      " 3540.39306823 1877.03642191 3401.58983976 2075.89207531 1915.98453002\n",
      " 3511.72162234 2696.65296848 2420.07321555 3764.90028171]\n"
     ]
    },
    {
     "data": {
      "image/png": "[encoded data removed]",
      "text/plain": [
       "<Figure size 640x480 with 1 Axes>"
      ]
     },
     "metadata": {},
     "output_type": "display_data"
    },
    {
     "data": {
      "image/png": "[encoded data removed]",
      "text/plain": [
       "<Figure size 800x600 with 1 Axes>"
      ]
     },
     "metadata": {},
     "output_type": "display_data"
    }
   ],
   "source": [
    "x_pred = X_test\n",
    "#np.random.rand(100, 5)  # Generate new input data for prediction\n",
    "y_pred, sigma = gp_1.predict(x_pred, return_std=True)\n",
    "print(y_pred)\n",
    "# Plot the results (since the output dimensionality is 1, it's difficult to visualize)\n",
    "# Instead, you can plot the predicted values against the true values\n",
    "plt.figure(figsize=(8, 6))\n",
    "plt.scatter(Y_test_1, y_pred, color='blue')\n",
    "plt.plot([Y_test_1.min(), Y_test_1.max()], [Y_test_1.min(), Y_test_1.max()], 'k--', lw=2)\n",
    "plt.xlabel('True Values')\n",
    "plt.ylabel('Predictions')\n",
    "plt.title('True vs Predicted Values')\n",
    "plt.show()"
   ]
  },
  {
   "cell_type": "code",
   "execution_count": 6,
   "metadata": {
    "colab": {
     "base_uri": "https://localhost:8080/"
    },
    "id": "Bgal5_K-g4g6",
    "outputId": "ce352005-8f36-463c-f938-065ae3659322"
   },
   "outputs": [
    {
     "name": "stdout",
     "output_type": "stream",
     "text": [
      "Root Mean Squared Error (RMSE): 645.667994325026 mm^2\n",
      "R-squared (R²): 0.6269962802871673\n"
     ]
    }
   ],
   "source": [
    "from sklearn.metrics import mean_squared_error\n",
    "from sklearn.metrics import r2_score\n",
    "import numpy as np\n",
    "\n",
    "mse = mean_squared_error(Y_test_1, y_pred)\n",
    "\n",
    "# Compute the root mean squared error\n",
    "rmse = np.sqrt(mse)\n",
    "\n",
    "print(f\"Root Mean Squared Error (RMSE): {rmse} mm^2\")\n",
    "\n",
    "r_squared = r2_score(Y_test_1, y_pred)\n",
    "\n",
    "print(\"R-squared (R²):\", r_squared)"
   ]
  },
  {
   "cell_type": "code",
   "execution_count": 7,
   "metadata": {
    "colab": {
     "base_uri": "https://localhost:8080/",
     "height": 92
    },
    "id": "ZTWea7a6gkgr",
    "outputId": "c6e027a7-7d48-4b4f-d32e-a9619b5fef0a"
   },
   "outputs": [
    {
     "data": {
      "text/html": [
       "<style>#sk-container-id-2 {color: black;background-color: white;}#sk-container-id-2 pre{padding: 0;}#sk-container-id-2 div.sk-toggleable {background-color: white;}#sk-container-id-2 label.sk-toggleable__label {cursor: pointer;display: block;width: 100%;margin-bottom: 0;padding: 0.3em;box-sizing: border-box;text-align: center;}#sk-container-id-2 label.sk-toggleable__label-arrow:before {content: \"▸\";float: left;margin-right: 0.25em;color: #696969;}#sk-container-id-2 label.sk-toggleable__label-arrow:hover:before {color: black;}#sk-container-id-2 div.sk-estimator:hover label.sk-toggleable__label-arrow:before {color: black;}#sk-container-id-2 div.sk-toggleable__content {max-height: 0;max-width: 0;overflow: hidden;text-align: left;background-color: #f0f8ff;}#sk-container-id-2 div.sk-toggleable__content pre {margin: 0.2em;color: black;border-radius: 0.25em;background-color: #f0f8ff;}#sk-container-id-2 input.sk-toggleable__control:checked~div.sk-toggleable__content {max-height: 200px;max-width: 100%;overflow: auto;}#sk-container-id-2 input.sk-toggleable__control:checked~label.sk-toggleable__label-arrow:before {content: \"▾\";}#sk-container-id-2 div.sk-estimator input.sk-toggleable__control:checked~label.sk-toggleable__label {background-color: #d4ebff;}#sk-container-id-2 div.sk-label input.sk-toggleable__control:checked~label.sk-toggleable__label {background-color: #d4ebff;}#sk-container-id-2 input.sk-hidden--visually {border: 0;clip: rect(1px 1px 1px 1px);clip: rect(1px, 1px, 1px, 1px);height: 1px;margin: -1px;overflow: hidden;padding: 0;position: absolute;width: 1px;}#sk-container-id-2 div.sk-estimator {font-family: monospace;background-color: #f0f8ff;border: 1px dotted black;border-radius: 0.25em;box-sizing: border-box;margin-bottom: 0.5em;}#sk-container-id-2 div.sk-estimator:hover {background-color: #d4ebff;}#sk-container-id-2 div.sk-parallel-item::after {content: \"\";width: 100%;border-bottom: 1px solid gray;flex-grow: 1;}#sk-container-id-2 div.sk-label:hover label.sk-toggleable__label {background-color: #d4ebff;}#sk-container-id-2 div.sk-serial::before {content: \"\";position: absolute;border-left: 1px solid gray;box-sizing: border-box;top: 0;bottom: 0;left: 50%;z-index: 0;}#sk-container-id-2 div.sk-serial {display: flex;flex-direction: column;align-items: center;background-color: white;padding-right: 0.2em;padding-left: 0.2em;position: relative;}#sk-container-id-2 div.sk-item {position: relative;z-index: 1;}#sk-container-id-2 div.sk-parallel {display: flex;align-items: stretch;justify-content: center;background-color: white;position: relative;}#sk-container-id-2 div.sk-item::before, #sk-container-id-2 div.sk-parallel-item::before {content: \"\";position: absolute;border-left: 1px solid gray;box-sizing: border-box;top: 0;bottom: 0;left: 50%;z-index: -1;}#sk-container-id-2 div.sk-parallel-item {display: flex;flex-direction: column;z-index: 1;position: relative;background-color: white;}#sk-container-id-2 div.sk-parallel-item:first-child::after {align-self: flex-end;width: 50%;}#sk-container-id-2 div.sk-parallel-item:last-child::after {align-self: flex-start;width: 50%;}#sk-container-id-2 div.sk-parallel-item:only-child::after {width: 0;}#sk-container-id-2 div.sk-dashed-wrapped {border: 1px dashed gray;margin: 0 0.4em 0.5em 0.4em;box-sizing: border-box;padding-bottom: 0.4em;background-color: white;}#sk-container-id-2 div.sk-label label {font-family: monospace;font-weight: bold;display: inline-block;line-height: 1.2em;}#sk-container-id-2 div.sk-label-container {text-align: center;}#sk-container-id-2 div.sk-container {/* jupyter's `normalize.less` sets `[hidden] { display: none; }` but bootstrap.min.css set `[hidden] { display: none !important; }` so we also need the `!important` here to be able to override the default hidden behavior on the sphinx rendered scikit-learn.org. See: https://github.com/scikit-learn/scikit-learn/issues/21755 */display: inline-block !important;position: relative;}#sk-container-id-2 div.sk-text-repr-fallback {display: none;}</style><div id=\"sk-container-id-2\" class=\"sk-top-container\"><div class=\"sk-text-repr-fallback\"><pre>GaussianProcessRegressor(kernel=1**2 * RBF(length_scale=1),\n",
       "                         n_restarts_optimizer=10)</pre><b>In a Jupyter environment, please rerun this cell to show the HTML representation or trust the notebook. <br />On GitHub, the HTML representation is unable to render, please try loading this page with nbviewer.org.</b></div><div class=\"sk-container\" hidden><div class=\"sk-item\"><div class=\"sk-estimator sk-toggleable\"><input class=\"sk-toggleable__control sk-hidden--visually\" id=\"sk-estimator-id-2\" type=\"checkbox\" checked><label for=\"sk-estimator-id-2\" class=\"sk-toggleable__label sk-toggleable__label-arrow\">GaussianProcessRegressor</label><div class=\"sk-toggleable__content\"><pre>GaussianProcessRegressor(kernel=1**2 * RBF(length_scale=1),\n",
       "                         n_restarts_optimizer=10)</pre></div></div></div></div></div>"
      ],
      "text/plain": [
       "GaussianProcessRegressor(kernel=1**2 * RBF(length_scale=1),\n",
       "                         n_restarts_optimizer=10)"
      ]
     },
     "execution_count": 7,
     "metadata": {},
     "output_type": "execute_result"
    }
   ],
   "source": [
    "# Create a Gaussian Process Regressor object\n",
    "gp_2 = GaussianProcessRegressor(kernel=kernel, n_restarts_optimizer=10)\n",
    "\n",
    "# Train the Gaussian Process Regressor\n",
    "gp_2.fit(X_2, Y_2) #Train the GP on just tol, h, mu data"
   ]
  },
  {
   "cell_type": "code",
   "execution_count": 8,
   "metadata": {
    "colab": {
     "base_uri": "https://localhost:8080/",
     "height": 637
    },
    "id": "qTm32V3qhRG2",
    "outputId": "082eb4b6-5e5a-4d6a-f24a-2e9853b1d133"
   },
   "outputs": [
    {
     "name": "stdout",
     "output_type": "stream",
     "text": [
      "[1.77910751 1.77351433 1.75690871 1.75171108 1.92420991 1.83729216\n",
      " 1.93183747 1.80449024 1.80555004 1.93389394 1.74110269 1.96448416\n",
      " 1.72333285 1.95128477 1.89487164 1.88916596 1.86159952 1.99357769\n",
      " 1.80265286 1.83153092 1.84161108 2.02979918 1.70346303 1.95000482]\n"
     ]
    },
    {
     "data": {
      "image/png": "[encoded data removed]",
      "text/plain": [
       "<Figure size 800x600 with 1 Axes>"
      ]
     },
     "metadata": {},
     "output_type": "display_data"
    }
   ],
   "source": [
    "x_pred = X_test\n",
    "#np.random.rand(100, 5)  # Generate new input data for prediction\n",
    "y_pred_2, sigma = gp_2.predict(x_pred, return_std=True)\n",
    "print(y_pred_2)\n",
    "# Plot the results (since the output dimensionality is 1, it's difficult to visualize)\n",
    "# Instead, you can plot the predicted values against the true values\n",
    "plt.figure(figsize=(8, 6))\n",
    "plt.scatter(Y_test_2, y_pred_2, color='blue')\n",
    "plt.plot([Y_test_2.min(), Y_test_2.max()], [Y_test_2.min(), Y_test_2.max()], 'k--', lw=2)\n",
    "plt.xlabel('True Values')\n",
    "plt.ylabel('Predictions')\n",
    "plt.title('True vs Predicted Values')\n",
    "plt.show()"
   ]
  },
  {
   "cell_type": "code",
   "execution_count": 9,
   "metadata": {
    "colab": {
     "base_uri": "https://localhost:8080/"
    },
    "id": "iqo2DbcmiNEU",
    "outputId": "1168a9a4-a1d9-495a-fa68-fb12ca7aa588"
   },
   "outputs": [
    {
     "name": "stdout",
     "output_type": "stream",
     "text": [
      "Root Mean Squared Error (RMSE): 0.04723544991659216 mm\n",
      "R-squared (R²): 0.805313570519241\n"
     ]
    }
   ],
   "source": [
    "mse = mean_squared_error(Y_test_2, y_pred_2)\n",
    "\n",
    "# Compute the root mean squared error\n",
    "rmse = np.sqrt(mse)\n",
    "\n",
    "print(f\"Root Mean Squared Error (RMSE): {rmse} mm\")\n",
    "\n",
    "r_squared = r2_score(Y_test_2, y_pred_2)\n",
    "\n",
    "print(\"R-squared (R²):\", r_squared)"
   ]
  },
  {
   "cell_type": "code",
   "execution_count": null,
   "metadata": {},
   "outputs": [],
   "source": []
  },
  {
   "cell_type": "code",
   "execution_count": 10,
   "metadata": {
    "colab": {
     "base_uri": "https://localhost:8080/"
    },
    "id": "gK0ZfVmooOJF",
    "outputId": "f0d4597c-ea0b-4808-ec76-b28ffe4c8f51"
   },
   "outputs": [
    {
     "ename": "SyntaxError",
     "evalue": "invalid syntax (3495118746.py, line 1)",
     "output_type": "error",
     "traceback": [
      "\u001b[0;36m  Cell \u001b[0;32mIn[10], line 1\u001b[0;36m\u001b[0m\n\u001b[0;31m    pip install emcee\u001b[0m\n\u001b[0m        ^\u001b[0m\n\u001b[0;31mSyntaxError\u001b[0m\u001b[0;31m:\u001b[0m invalid syntax\n"
     ]
    }
   ],
   "source": [
    "pip install emcee\n",
    "pip install corner"
   ]
  },
  {
   "cell_type": "code",
   "execution_count": null,
   "metadata": {
    "id": "e1Tp6VQRIqtZ"
   },
   "outputs": [],
   "source": [
    "from sklearn.mixture import GaussianMixture\n",
    "class CustomGMM:\n",
    "    def __init__(self, n_components=1, **kwargs):\n",
    "        self.gmm = GaussianMixture(n_components=n_components, **kwargs)\n",
    "\n",
    "    def fit(self, X):\n",
    "        self.gmm.fit(X)\n",
    "\n",
    "    def pdf(self, X):\n",
    "\n",
    "        return np.exp(self.gmm.score_samples(np.array(X).reshape(-1, 1)))"
   ]
  },
  {
   "cell_type": "code",
   "execution_count": null,
   "metadata": {
    "colab": {
     "base_uri": "https://localhost:8080/",
     "height": 472
    },
    "id": "-OZWOXq3I0Uf",
    "outputId": "4382be20-cde7-455f-d619-8e8fdb0f2fd6"
   },
   "outputs": [],
   "source": [
    "## Fit a Gaussian Mixture to Tina's Distribution\n",
    "from sklearn.mixture import GaussianMixture\n",
    "from IPython.display import display\n",
    "%matplotlib inline\n",
    "\n",
    "with open(\"Tina_kk_distribution_day_inverse.txt\", 'r') as file:\n",
    "   lines = file.readlines()\n",
    "\n",
    "data = []\n",
    "for line in lines:\n",
    "    # Assuming each line contains one data point\n",
    "    data_point = float(line.strip())  # Convert string to float\n",
    "    data.append(data_point)\n",
    "\n",
    "# Convert the list to a NumPy array if needed\n",
    "import numpy as np\n",
    "data_array = np.array(data)\n",
    "\n",
    "gmm_data = data_array.reshape(-1,1)\n",
    "\n",
    "# Fit a Gaussian Mixture Model\n",
    "gmm = CustomGMM(n_components=3, random_state=42)\n",
    "gmm.fit(gmm_data)\n",
    "\n",
    "\n",
    "#Fit a second GMM without using the custom class fix to sample from it directly\n",
    "gmm_2 = GaussianMixture(n_components=3, random_state=42)\n",
    "gmm_2.fit(gmm_data)\n",
    "\n",
    "# Generate data points for plotting\n",
    "x = np.linspace(0, 300, 1000000)\n",
    "# Compute the log-density of the Gaussian mixture model at each point\n",
    "density = gmm.pdf(x)\n",
    "\n",
    "# Plot the data and the fitted Gaussian mixture model\n",
    "plt.hist(data, bins=30, density=True, alpha=0.5, color='blue')\n",
    "\n",
    "plt.plot(x, density, color='red', label='GMM')\n",
    "plt.xlim([0,3])\n",
    "plt.xlabel('Growth Rate k [day^-1]')\n",
    "plt.ylabel('Density')\n",
    "plt.title('#Fitting Mixed Gaussian Model to Data')\n",
    "plt.legend()\n",
    "plt.show()\n",
    "plt.show()\n",
    "\n",
    "kk_prior = gmm"
   ]
  },
  {
   "cell_type": "code",
   "execution_count": null,
   "metadata": {},
   "outputs": [],
   "source": [
    "starting_k_samples, __ = gmm_2.sample(100)\n",
    "starting_k_samples = starting_k_samples.flatten().tolist()\n",
    "print(starting_k_samples)"
   ]
  },
  {
   "cell_type": "code",
   "execution_count": null,
   "metadata": {},
   "outputs": [],
   "source": [
    "#Encodes the starting sample information for the walkers that sample on the k prior\n",
    "plt.figure()\n",
    "plt.hist(starting_k_samples, bins=30)\n",
    "plt.xlim([0,3])"
   ]
  },
  {
   "cell_type": "code",
   "execution_count": null,
   "metadata": {},
   "outputs": [],
   "source": [
    "print(np.random.uniform(1.1, 1.3, 100))"
   ]
  },
  {
   "cell_type": "code",
   "execution_count": null,
   "metadata": {
    "colab": {
     "base_uri": "https://localhost:8080/"
    },
    "id": "3jGWIeJkn5UB",
    "outputId": "b015ad7e-d459-4fc9-d3e9-b661184602a3"
   },
   "outputs": [],
   "source": [
    "hyperparameters = gp_1.kernel_.get_params()\n",
    "\n",
    "# Print the length scale\n",
    "print(hyperparameters)\n",
    "\n",
    "hyperparameters_2 = gp_2.kernel_.get_params()\n",
    "\n",
    "print(hyperparameters_2)"
   ]
  },
  {
   "cell_type": "code",
   "execution_count": null,
   "metadata": {
    "colab": {
     "base_uri": "https://localhost:8080/"
    },
    "id": "c2HHo_7DonNk",
    "outputId": "d0c06549-19bf-4c23-b74d-3c3efa98902b"
   },
   "outputs": [],
   "source": [
    "gp_1._get_param_names()"
   ]
  },
  {
   "cell_type": "code",
   "execution_count": null,
   "metadata": {
    "colab": {
     "base_uri": "https://localhost:8080/",
     "height": 474
    },
    "id": "qTBRIibymhMe",
    "outputId": "80f4ca48-138d-48f7-caef-6e0406052cc7"
   },
   "outputs": [],
   "source": [
    "from scipy.stats import lognorm\n",
    "\n",
    "# Define parameters for the log-normal distribution\n",
    "mean = 1.1567  # Mean of the distribution\n",
    "sigma = 0.05  # Standard deviation of the logarithm of the distribution\n",
    "\n",
    "# Create a log-normal distribution object\n",
    "Theta_crit_prior = lognorm(s=sigma, scale=mean)\n",
    "x = np.linspace(0.9, 2, 1000)\n",
    "pdf = Theta_crit_prior.pdf(x)\n",
    "plt.plot(x, pdf, 'r-', lw=2, label='PDF')\n",
    "\n",
    "plt.title('Prior $\\Theta_{{crit}}$ Distribution')\n",
    "plt.xlabel('Value')\n",
    "plt.ylabel('Probability Density')\n",
    "plt.legend()\n",
    "plt.grid(True)\n",
    "plt.show()"
   ]
  },
  {
   "cell_type": "code",
   "execution_count": null,
   "metadata": {
    "id": "xMOAau7s-QAH"
   },
   "outputs": [],
   "source": [
    "#code to fix how the gmm pdf evaluates probability densities\n",
    "def extract_first_item(obj):\n",
    "    if isinstance(obj, np.ndarray) and obj.size > 0:\n",
    "        return obj[0]\n",
    "    else:\n",
    "        return obj"
   ]
  },
  {
   "cell_type": "code",
   "execution_count": null,
   "metadata": {
    "id": "B156bO_Fn3sc"
   },
   "outputs": [],
   "source": [
    "\n",
    "import warnings\n",
    "import numpy as np\n",
    "import emcee\n",
    "import corner\n",
    "# Filter out runtime warnings\n",
    "warnings.filterwarnings(\"ignore\", category=RuntimeWarning)\n",
    "# Function to compute likelihood\n",
    "def likelihood(X, y, f):\n",
    "    ##sigma_1 = 645 #rms error for area gp\n",
    "    #sigma_2 = 0.001 #rms error for distance gp\n",
    "    sigma_2 = 0.526\n",
    "    #sigma_1 = 2\n",
    "    y_pred, err_pred = f(X)  # Predicted output from the function f\n",
    "    # Assuming Gaussian likelihood\n",
    "    #Sigma 2 likelihood = (1/(sigma_2*np.sqrt(2*np.pi)))*np.exp(-0.5 * np.sum(((err_pred)**2)/(sigma_2**2)))#*np.exp(-0.5*sigma_2**2)*(1/(sigma_2*np.sqrt(2*np.pi))),   # Likelihood function with just Error Prediction\n",
    "    likelihood = (1/(sigma_2*np.sqrt(2*np.pi)))*np.exp(-0.5 * np.sum(((err_pred-1.2)**2)/(sigma_2**2))),   # Likelihood function\n",
    "\n",
    "    return likelihood\n",
    "\n",
    "# Function to compute log posterior\n",
    "def log_posterior(X, y, f, prior_distributions):\n",
    "    # Prior probabilities for each input variable in X\n",
    "    prior_probs = [extract_first_item(prior.pdf(x)) for prior, x in zip(prior_distributions, X)]  # Exclude sigma_2\n",
    "\n",
    "    # Compute the likelihood\n",
    "    likelihood_val = likelihood(X, y, f)\n",
    "\n",
    "    # Compute the log posterior\n",
    "    log_posterior_val = np.sum(np.log(prior_probs)) + np.log(likelihood_val)\n",
    "\n",
    "    return log_posterior_val\n",
    "# Define your function f that maps inputs X to output y\n",
    "def f(X):\n",
    "\n",
    "    y_pred = gp_1.predict(X.reshape(1, -1))\n",
    "    err_pred = gp_2.predict(X.reshape(1, -1))\n",
    "    return y_pred, err_pred\n",
    "\n",
    "from scipy.stats import uniform\n",
    "from scipy.stats import norm\n",
    "\n",
    "###### Define prior distributions for input variables in X\n",
    "#tol_prior = uniform(loc=, scale=25 - 12)\n",
    "#h_prior = uniform(loc=2, scale=12 - 2)\n",
    "#mu_prior = uniform(loc=0.0, scale = 1.0 - 0.0)\n",
    "#Theta_crit_prior = Theta_crit_prior\n",
    "#kk_prior = kk_prior\n",
    "\n",
    "\n",
    "tol_prior = uniform(loc=12, scale=25 - 12)\n",
    "h_prior = uniform(loc=2, scale=12 - 2)\n",
    "mu_prior = uniform(loc=0.0, scale = 1.0 - 0.0)\n",
    "Theta_crit_prior = uniform(loc=0.9, scale=2.2-0.9)\n",
    "kk_prior = kk_prior\n",
    "\n",
    "prior_distributions = [tol_prior, h_prior, mu_prior, Theta_crit_prior, kk_prior]\n",
    "\n",
    "# Define the measured output y\n",
    "y_observed = 4018.853198 # measured area growth value\n",
    "\n",
    "# Initialize MCMC sampler\n",
    "nwalkers = 100  # Number of walkers\n",
    "ndim = 5  # Dimensionality of the parameter space\n",
    "sampler = emcee.EnsembleSampler(nwalkers, ndim, log_posterior, args=(y_observed, f, prior_distributions))\n",
    "\n",
    "# Run MCMC sampling\n",
    "nsteps = 10000  # Number of MCMC steps\n",
    "# Generate random numbers for each column\n",
    "column1 = np.random.uniform(12, 25, 100)\n",
    "column2 = np.random.uniform(2, 12, 100)\n",
    "column3 = np.random.uniform(0.0, 1.0, 100)\n",
    "column4 = np.random.uniform(0.9, 2.2, 100)\n",
    "column5 = starting_k_samples\n",
    "# Stack the columns horizontally to create the array\n",
    "\n",
    "array = np.column_stack((column1, column2, column3, column4, column5))\n",
    "\n",
    "# Repeat the vector 100 times\n",
    "initial_positions = array # Initial positions for walkers\n",
    "step_count = 0\n",
    "\n",
    "while step_count < nsteps:\n",
    "    # Run MCMC for a subset of steps\n",
    "    sampler.run_mcmc(initial_positions, nsteps=1000)\n",
    "\n",
    "\n",
    "    # Increment step count\n",
    "    step_count += 1000\n",
    "\n",
    "    # You can perform any desired operations or monitoring here\n",
    "    # Example: Print the current step count every 100 steps\n",
    "    print(f\"Completed {step_count} steps out of {nsteps}\")\n",
    "\n",
    "# Extract samples from the sampler\n",
    "samples = sampler.chain[:, :, :].reshape((-1, ndim))\n",
    "\n",
    "# Extract samples from the sampler\n",
    "pair_plot_samples = sampler.get_chain(flat=True)\n",
    "\n",
    "# Create a pair plot\n",
    "fig = corner.corner(pair_plot_samples, labels=[\"tol\", \"h\", \"mu\", \"Theta_crit\", \"kk\"],\n",
    "                    truths=[None, None, None, None, None])\n",
    "\n",
    "# Show the plot\n",
    "plt.show()"
   ]
  },
  {
   "cell_type": "code",
   "execution_count": null,
   "metadata": {},
   "outputs": [],
   "source": [
    "print(np.shape(samples))"
   ]
  },
  {
   "cell_type": "code",
   "execution_count": null,
   "metadata": {
    "id": "VESHXGS6DMZ4"
   },
   "outputs": [],
   "source": [
    "import matplotlib.pyplot as plt\n",
    "\n",
    "# Extract samples for each input variable\n",
    "posterior_tol = samples[:, 0]  # Samples for the first input variable\n",
    "posterior_h = samples[:, 1]  # Samples for the second input variable\n",
    "posterior_mu = samples[:, 2]  # Samples for the third input variable\n",
    "posterior_theta_crit = samples[:, 3]  # Samples for the fourth input variable\n",
    "posterior_kk = samples[:, 4]  # Samples for the fifth input variable\n",
    "# Plot histograms of the samples\n",
    "\n",
    "tol_uniform_samples = np.random.uniform(low=12, high=25, size=100000)\n",
    "h_uniform_samples = np.random.uniform(low=2, high=12, size=100000)\n",
    "mu_uniform_samples = np.random.uniform(low=0.0, high=1.0, size=100000)\n",
    "#Theta_Crit_lognormal_samples = np.log(np.random.lognormal(mean=mean, sigma=sigma, size=100000))\n",
    "Theta_Crit_lognormal_samples = np.random.uniform(low=0.9, high=2.2, size=100000)\n",
    "sigma_2_samples = np.random.uniform(low=0.05, high=2, size=100000)\n",
    "\n",
    "#Plot Tol Prior and Posterior Distributions\n",
    "fig, axs = plt.subplots(1, 2, figsize=(10, 5))\n",
    "axs[0].hist(tol_uniform_samples, bins=30, density=True, color='blue', alpha=0.6, edgecolor='black')\n",
    "axs[0].set_xlabel('Prior Tol Distribution [mm]')\n",
    "axs[0].set_ylabel('Probability Density')\n",
    "axs[0].set_xlim([12, 25])\n",
    "axs[0].set_ylim([0, 1.25])\n",
    "\n",
    "axs[1].hist(posterior_tol, bins=30, density=True, alpha=0.6, color='b', edgecolor='black')\n",
    "axs[1].set_xlabel('Posterior Tol Distribution after MCMC [mm]')\n",
    "axs[1].set_ylabel('Probability Density')\n",
    "axs[1].set_xlim([12, 25])\n",
    "axs[1].set_ylim([0, 1.25])\n",
    "plt.show()\n",
    "\n",
    "#Plot h Prior and Posterior Distributions\n",
    "fig2, axs2 = plt.subplots(1, 2, figsize=(10, 5))\n",
    "axs2[0].hist(h_uniform_samples, bins=30, density=True, color='blue', alpha=0.6, edgecolor='black')\n",
    "axs2[0].set_xlabel('Prior h Distribution [mm]')\n",
    "axs2[0].set_ylabel('Probability Density')\n",
    "axs2[0].set_xlim([2, 10])\n",
    "axs2[0].set_ylim([0, 1])\n",
    "\n",
    "\n",
    "axs2[1].hist(posterior_h, bins=30, density=True, alpha=0.6, color='r', edgecolor='black')\n",
    "axs2[1].set_xlabel('Posterior h Distribution after MCMC [mm]')\n",
    "axs2[1].set_ylabel('Probability Density')\n",
    "axs2[1].set_xlim([2, 10])\n",
    "axs2[1].set_ylim([0, 1])\n",
    "\n",
    "#Plot mu Prior and Posterior Distributions\n",
    "fig3, axs3 = plt.subplots(1, 2, figsize=(10, 5))\n",
    "axs3[0].hist(mu_uniform_samples, bins=30, density=True, color='blue', alpha=0.6, edgecolor='black')\n",
    "axs3[0].set_xlabel('Prior $mu$ Distribution [MPa]')\n",
    "axs3[0].set_ylabel('Probability Density')\n",
    "axs3[0].set_xlim([0, 1])\n",
    "axs3[0].set_ylim([0, 8])\n",
    "\n",
    "axs3[1].hist(posterior_mu, bins=30, density=True, alpha=0.6, color='g', edgecolor='black')\n",
    "axs3[1].set_xlabel('Posterior $mu$ Distribution after MCMC [MPa]')\n",
    "axs3[1].set_ylabel('Probability Density')\n",
    "axs3[1].set_xlim([0, 1])\n",
    "axs3[1].set_ylim([0, 8])\n",
    "\n",
    "#Plot Theta Crit Prior and Posterior Distributions\n",
    "fig4, axs4 = plt.subplots(1, 2, figsize=(10, 5))\n",
    "axs4[0].hist(Theta_Crit_lognormal_samples, bins=30, density=True, color='blue', alpha=0.6, edgecolor='black')\n",
    "axs4[0].set_xlabel('Prior $\\Theta_{{crit}}$ Distribution')\n",
    "axs4[0].set_ylabel('Probability Density')\n",
    "axs4[0].set_xlim([0.9, 2.2])\n",
    "axs4[0].set_ylim([0, 8])\n",
    "\n",
    "\n",
    "axs4[1].hist(posterior_theta_crit, bins=30, density=True, alpha=0.6, color='y', edgecolor='black')\n",
    "axs4[1].set_xlabel('Posterior $\\Theta_{{crit}}$ Distribution after MCMC')\n",
    "axs4[1].set_ylabel('Probability Density')\n",
    "axs4[1].set_xlim([0.9, 2.2])\n",
    "axs4[1].set_ylim([0, 8])\n",
    "plt.show()\n",
    "\n",
    "\n",
    "fig5, axs5 = plt.subplots(1, 2, figsize=(10, 5))\n",
    "x = np.linspace(0, 3, 10000)\n",
    "density = gmm.pdf(x)\n",
    "axs5[0].hist(data, bins=30, density=True, alpha=0.5, color='blue')\n",
    "axs5[0].plot(x, density, color='red', label='GMM')\n",
    "axs5[0].set_xlim([0,3])\n",
    "axs5[0].set_ylim([0, 2.25])\n",
    "axs5[0].set_xlabel('Prior kk Distribution')\n",
    "axs5[0].set_ylabel('Density')\n",
    "axs5[0].legend()\n",
    "\n",
    "axs5[1].hist(posterior_kk, bins=30, density=True, alpha=0.6, color='m', edgecolor='black')\n",
    "axs5[1].set_xlim([0,3])\n",
    "axs5[1].set_ylim([0, 2.25])\n",
    "axs5[1].set_xlabel('Posterior kk Distribution after MCMC')\n",
    "axs5[1].set_ylabel('Probability Density')\n",
    "\n",
    "plt.show()\n",
    "\n"
   ]
  },
  {
   "cell_type": "code",
   "execution_count": null,
   "metadata": {
    "id": "SHsltVMREsIV"
   },
   "outputs": [],
   "source": [
    "import numpy as np\n",
    "sigma_2 = 0.2"
   ]
  },
  {
   "cell_type": "code",
   "execution_count": null,
   "metadata": {},
   "outputs": [],
   "source": [
    "(1/(sigma_2*np.sqrt(2*np.pi)))*np.exp(-0.5 * np.sum(((1)**2)/(sigma_2**2)))*np.exp(sigma_2**2)"
   ]
  },
  {
   "cell_type": "code",
   "execution_count": null,
   "metadata": {},
   "outputs": [],
   "source": [
    "print(np.shape(samples))"
   ]
  },
  {
   "cell_type": "code",
   "execution_count": null,
   "metadata": {},
   "outputs": [],
   "source": [
    "print(np.mean(samples[:,3]))"
   ]
  },
  {
   "cell_type": "code",
   "execution_count": null,
   "metadata": {},
   "outputs": [],
   "source": []
  },
  {
   "cell_type": "code",
   "execution_count": null,
   "metadata": {},
   "outputs": [],
   "source": []
  }
 ],
 "metadata": {
  "colab": {
   "provenance": []
  },
  "kernelspec": {
   "display_name": "Python 3 (ipykernel)",
   "language": "python",
   "name": "python3"
  },
  "language_info": {
   "codemirror_mode": {
    "name": "ipython",
    "version": 3
   },
   "file_extension": ".py",
   "mimetype": "text/x-python",
   "name": "python",
   "nbconvert_exporter": "python",
   "pygments_lexer": "ipython3",
   "version": "3.11.7"
  }
 },
 "nbformat": 4,
 "nbformat_minor": 4
}
